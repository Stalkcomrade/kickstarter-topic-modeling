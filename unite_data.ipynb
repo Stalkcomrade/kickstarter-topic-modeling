{
 "cells": [
  {
   "cell_type": "code",
   "execution_count": null,
   "metadata": {
    "collapsed": true
   },
   "outputs": [],
   "source": [
    "cd /home/stlk/Desktop/DigEc_data\n",
    "\n",
    "## unzipping folders\n",
    "\n",
    "for f in *.zip; \n",
    "do mkdir \"${f%}_folder\" && unzip \"$f\" -d \"${f%}_folder\" && mv \"${f%}_folder\"/* \"${f%.zip}.csv\"; done"
   ]
  },
  {
   "cell_type": "code",
   "execution_count": 28,
   "metadata": {
    "collapsed": true
   },
   "outputs": [
    {
     "ename": "ERROR",
     "evalue": "Error in parse(text = x, srcfile = src): <text>:1:4: unexpected symbol\n1: cd Desktop\n       ^\n",
     "output_type": "error",
     "traceback": [
      "Error in parse(text = x, srcfile = src): <text>:1:4: unexpected symbol\n1: cd Desktop\n       ^\nTraceback:\n"
     ]
    }
   ],
   "source": [
    "## creating list of absolute paths to csvs\n",
    "\n",
    "ls -d -1 $PWD/*/*.csv >> /home/stlk/Desktop/list.txt\n",
    "ls -d -1 $PWD/*.csv >> /home/stlk/Desktop/list_creators.txt"
   ]
  },
  {
   "cell_type": "code",
   "execution_count": 1,
   "metadata": {
    "collapsed": true
   },
   "outputs": [
    {
     "ename": "ERROR",
     "evalue": "Error in parse(text = x, srcfile = src): <text>:1:40: unexpected '*'\n1: csvstack /home/stlk/Desktop/DigEc_data/*\n                                           ^\n",
     "output_type": "error",
     "traceback": [
      "Error in parse(text = x, srcfile = src): <text>:1:40: unexpected '*'\n1: csvstack /home/stlk/Desktop/DigEc_data/*\n                                           ^\nTraceback:\n"
     ]
    }
   ],
   "source": [
    "## stacking multiple csvs \n",
    "### not working till csvs have different number of columns\n",
    "\n",
    "csvstack /home/stlk/Desktop/DigEc_data/*/Kickstarter*.csv --filenames >> /home/stlk/Desktop/DigEc_data/un.csv\n",
    "\n",
    "csvstack /home/stlk/Desktop/DigEc_scripts/mongo_exp/*.csv --filenames >> /home/stlk/Desktop/DigEc_scripts/mongo_exp/creators_united.csv"
   ]
  },
  {
   "cell_type": "code",
   "execution_count": 2,
   "metadata": {},
   "outputs": [
    {
     "ename": "ERROR",
     "evalue": "Error in parse(text = x, srcfile = src): <text>:1:8: unexpected symbol\n1: CREATE DATABASE\n           ^\n",
     "output_type": "error",
     "traceback": [
      "Error in parse(text = x, srcfile = src): <text>:1:8: unexpected symbol\n1: CREATE DATABASE\n           ^\nTraceback:\n"
     ]
    }
   ],
   "source": [
    "## mySQL for creating and importing data\n",
    "\n",
    "\n",
    "CREATE DATABASE kck;\n",
    "\n",
    "USE KCK;\n",
    "\n",
    "\n",
    "CREATE TABLE `kck`\n",
    "(`group` VARCHAR(100),\n",
    "`id` INT,\n",
    "PRIMARY KEY (`id`),\n",
    "`photo` JSON,\n",
    "`name` MEDIUMTEXT,\n",
    "`blurb` MEDIUMTEXT,\n",
    "`goal` INT,\n",
    "`pledged` FLOAT(15,15),\n",
    "`state` VARCHAR(80),\n",
    "`slug` VARCHAR(1000),\n",
    "`disable_communication` BOOLEAN,\n",
    "`country` VARCHAR(100),\n",
    "`currency` VARCHAR(100),\n",
    "`currency_symbol` VARCHAR(100),\n",
    "`currency_trailing_code` BOOLEAN,\n",
    "`deadline` INT,\n",
    "`state_changed_at` INT,\n",
    "`created_at` INT,\n",
    "`launched_at` INT,\n",
    "`staff_pick` BOOLEAN,\n",
    "`is_starrable` BOOLEAN,\n",
    "`backers_count` INT,\n",
    "`static_usd_rate` FLOAT(15,15),\n",
    "`usd_pledged` FLOAT(15,15),\n",
    "`converted_pledged_amount` INT,\n",
    "`current_currency` VARCHAR(100),\n",
    "`usd_type` VARCHAR(100),\n",
    "`creator` MEDIUMTEXT,\n",
    "`location` MEDIUMTEXT,\n",
    "`category` MEDIUMTEXT,\n",
    "`profile` MEDIUMTEXT,\n",
    "`spotlight` BOOLEAN,\n",
    "`urls` MEDIUMTEXT,\n",
    "`source_url` MEDIUMTEXT,\n",
    "`friends` VARCHAR(10),\n",
    "`is_starred` VARCHAR(10),\n",
    "`is_backing` VARCHAR(10),\n",
    "`permissions` VARCHAR(10)\n",
    ");\n",
    "\n",
    "\n",
    "LOAD DATA LOCAL INFILE \"/home/stlk/Desktop/DigEc_data/un.csv\"\n",
    "INTO TABLE `kck`\n",
    "COLUMNS TERMINATED BY ','\n",
    "ENCLOSED BY '\"'\n",
    "LINES TERMINATED BY '\\n'\n",
    "IGNORE 1 LINES;"
   ]
  },
  {
   "cell_type": "code",
   "execution_count": null,
   "metadata": {
    "collapsed": true
   },
   "outputs": [],
   "source": [
    "## monogdb syntax\n",
    "\n",
    "sudo systemctl start mongodb && sudo systemctl status mongodb\n",
    "\n",
    "    mongo \n",
    "\n",
    "use kck\n",
    "\n",
    "db.createCollection('kck')\n",
    "db.createCollection('KCK')\n",
    "\n",
    "ls -d -1 $PWD/*/*.csv >> /home/stlk/Desktop/list.txt\n",
    "ls -d -1 $PWD/*.csv >> /home/stlk/Desktop/list_KCK.txt\n",
    "\n"
   ]
  },
  {
   "cell_type": "code",
   "execution_count": null,
   "metadata": {
    "collapsed": true
   },
   "outputs": [],
   "source": [
    "## Adding path columns to csvs\n",
    "\n",
    "a=1\n",
    "IFS=$'\\n'\n",
    "for f in $(cat /home/stlk/Desktop/list.txt);\n",
    "do Rscript --vanilla /home/stlk/Desktop/add_path.r \"$f\" \"$a\" &&\n",
    "echo $((a+=1)); done\n"
   ]
  },
  {
   "cell_type": "code",
   "execution_count": null,
   "metadata": {
    "collapsed": true
   },
   "outputs": [],
   "source": [
    "## importing set of csv to mongo\n",
    "\n",
    "a=0\n",
    "IFS=$'\\n'\n",
    "for f in $(cat /home/stlk/Desktop/list.txt);\n",
    "do mongoimport -d kck -c kck --type csv --file \"$f\" --headerline &&\n",
    "echo $((a+=1)); done"
   ]
  },
  {
   "cell_type": "code",
   "execution_count": null,
   "metadata": {
    "collapsed": true
   },
   "outputs": [],
   "source": [
    "# mongoimport -d kck -c df_test --type csv --file /home/stlk/Desktop/d1.csv --headerline\n",
    "# mongoimport -d kck -c df_test --type csv --file /home/stlk/Desktop/d2.csv --headerline\n",
    "\n",
    "# mongoimport -d kck -c kck_test --type csv --file /home/stlk/Desktop/DigEc_data/Kickstarter_2017-10-15T10_20_38_271Z.zip_folder/Kickstarter001.csv --headerline\n",
    "# mongoimport -d kck -c kck_test --type csv --file /home/stlk//Desktop/DigEc_data/Kickstarter_2016-01-28T09_15_08_781Z.zip_folder/Kickstarter001.csv --headerline\n",
    "\n",
    "mongoimport -d kck -c kck --type csv --file /home/stlk/Desktop/DigEc_data/un.csv --headerline"
   ]
  },
  {
   "cell_type": "code",
   "execution_count": null,
   "metadata": {
    "collapsed": true
   },
   "outputs": [],
   "source": [
    "## exporting csv out of mongo\n",
    "\n",
    "# mongoexport --db kck --collection kck_test --jsonArray > /home/stlk/Desktop/test1.json\n",
    "\n",
    "# print number of lines\n",
    "awk '{n+=1} END {print n}' Desktop/DigEc_data/un.csv"
   ]
  },
  {
   "cell_type": "code",
   "execution_count": 27,
   "metadata": {
    "collapsed": true
   },
   "outputs": [
    {
     "ename": "ERROR",
     "evalue": "Error in parse(text = x, srcfile = src): <text>:3:5: unexpected symbol\n2: \n3: use kck\n       ^\n",
     "output_type": "error",
     "traceback": [
      "Error in parse(text = x, srcfile = src): <text>:3:5: unexpected symbol\n2: \n3: use kck\n       ^\nTraceback:\n"
     ]
    }
   ],
   "source": [
    "## checking ids\n",
    "\n",
    "# export column\n",
    "csvcut -c id Desktop/DigEc_data/un.csv >> Desktop/DigEc_data/ids_un.csv\n",
    "\n",
    "# export column mongo\n",
    "mongoexport --host localhost --db kck --collection kck --csv --out /home/stlk/Desktop/DigEc_data_samples/text_mongo.json --fields country\n",
    "\n",
    "# export y from mongo\n",
    "## non-nested fields\n",
    "mongoexport --host localhost --db kck --collection kck --csv --out /home/stlk/Desktop/DigEc_data_samples/y_mongo.csv --fields id,blurb,goal,pledged,state,state_changed_at\n",
    "\n",
    "# export for missing state_changed_at\n",
    "mongoexport --host localhost --db kck --collection KCK --csv --out /home/stlk/Desktop/DigEc_scripts/mongo_exp/creators_with_time.csv --fields id,creator_id,state_changed_at"
   ]
  },
  {
   "cell_type": "code",
   "execution_count": 1,
   "metadata": {},
   "outputs": [
    {
     "ename": "ERROR",
     "evalue": "Error in ids$id %>% unique() %>% length(): could not find function \"%>%\"\n",
     "output_type": "error",
     "traceback": [
      "Error in ids$id %>% unique() %>% length(): could not find function \"%>%\"\nTraceback:\n"
     ]
    }
   ],
   "source": [
    "## checking stacked csv exported from mySQL and before being imported\n",
    "\n",
    "ids$id %>% unique() %>% length()\n",
    "ids_mongo$id %>% unique() %>% length()\n",
    "\n",
    "ids_mongo %>% nrow()\n",
    "ids %>% nrow()\n",
    "\n",
    "# setdiff(ids, ids_mongo) %>% head()"
   ]
  },
  {
   "cell_type": "code",
   "execution_count": 3,
   "metadata": {},
   "outputs": [
    {
     "ename": "ERROR",
     "evalue": "Error in parse(text = x, srcfile = src): <text>:4:22: unexpected ','\n3: mr = db.runCommand({\n4:   \"mapreduce\" : \"kck\",\n                        ^\n",
     "output_type": "error",
     "traceback": [
      "Error in parse(text = x, srcfile = src): <text>:4:22: unexpected ','\n3: mr = db.runCommand({\n4:   \"mapreduce\" : \"kck\",\n                        ^\nTraceback:\n"
     ]
    }
   ],
   "source": [
    "## extract all field names\n",
    "\n",
    "mr = db.runCommand({\n",
    "  \"mapreduce\" : \"kck\",\n",
    "  \"map\" : function() {\n",
    "    for (var key in this) { emit(key, null); }\n",
    "  },\n",
    "  \"reduce\" : function(key, stuff) { return null; },\n",
    "  \"out\": \"kck\" + \"_keys\"\n",
    "})\n",
    "\n",
    "db[mr.result].distinct(\"_id\")"
   ]
  },
  {
   "cell_type": "code",
   "execution_count": null,
   "metadata": {
    "collapsed": true
   },
   "outputs": [],
   "source": [
    "## count number of values\n",
    "\n",
    "db.kck.aggregate(\n",
    "   {$group : { _id : '$country', count : {$sum : 1}}}\n",
    ")\n"
   ]
  },
  {
   "cell_type": "code",
   "execution_count": null,
   "metadata": {
    "collapsed": true
   },
   "outputs": [],
   "source": [
    "mongoexport --host localhost --db kck --collection KCK --csv --out /home/stlk/Desktop/DigEc_Kickstarter/SocMedia_Conf/full.json --fields id,blurb,state,state_changed_at,backers_count,goal,static_usd_rate,usd_pledged,creator_id,category_slug\n",
    "\n",
    "id, blurb, state, state_changed_at, backers_count, goal, static_usd_rate, usd_pledged, creator_id, category_slug"
   ]
  }
 ],
 "metadata": {
  "hide_input": false,
  "kernelspec": {
   "display_name": "R",
   "language": "R",
   "name": "ir"
  },
  "language_info": {
   "codemirror_mode": "r",
   "file_extension": ".r",
   "mimetype": "text/x-r-source",
   "name": "R",
   "pygments_lexer": "r",
   "version": "3.4.3"
  },
  "varInspector": {
   "cols": {
    "lenName": 16,
    "lenType": 16,
    "lenVar": 40
   },
   "kernels_config": {
    "python": {
     "delete_cmd_postfix": "",
     "delete_cmd_prefix": "del ",
     "library": "var_list.py",
     "varRefreshCmd": "print(var_dic_list())"
    },
    "r": {
     "delete_cmd_postfix": ") ",
     "delete_cmd_prefix": "rm(",
     "library": "var_list.r",
     "varRefreshCmd": "cat(var_dic_list()) "
    }
   },
   "types_to_exclude": [
    "module",
    "function",
    "builtin_function_or_method",
    "instance",
    "_Feature"
   ],
   "window_display": false
  }
 },
 "nbformat": 4,
 "nbformat_minor": 2
}
