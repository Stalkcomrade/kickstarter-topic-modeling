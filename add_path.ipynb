{
 "cells": [
  {
   "cell_type": "code",
   "execution_count": 1,
   "metadata": {},
   "outputs": [
    {
     "ename": "ERROR",
     "evalue": "Error in parse(text = x, srcfile = src): <text>:6:5: unexpected '$'\n5: a=1\n6: IFS=$\n       ^\n",
     "output_type": "error",
     "traceback": [
      "Error in parse(text = x, srcfile = src): <text>:6:5: unexpected '$'\n5: a=1\n6: IFS=$\n       ^\nTraceback:\n"
     ]
    }
   ],
   "source": [
    "\n",
    "## Adding path columns to csvs\n",
    "## Parsing jsons and writting back\n",
    "\n",
    "a=1\n",
    "IFS=$'\\n'\n",
    "for f in $(cat /home/stlk/Desktop/list_for_parsing.txt);\n",
    "do Rscript --vanilla /home/stlk/Desktop/DigEc_scripts/1_json_parse_R.r \"$f\" \"$a\" &&\n",
    "echo $((a+=1)); done\n",
    "\n",
    "\n",
    "#!/usr/bin/env Rscript \n",
    "\n",
    "df <- read_csv(\"stdin\") \n",
    "df$path = \"stdin\"\n",
    "\n",
    "write_csv(\"stdin\", x = df)"
   ]
  },
  {
   "cell_type": "code",
   "execution_count": 1,
   "metadata": {},
   "outputs": [
    {
     "ename": "ERROR",
     "evalue": "Error in parse(text = x, srcfile = src): <text>:4:12: unexpected '$'\n3: \n4: path_local=$\n              ^\n",
     "output_type": "error",
     "traceback": [
      "Error in parse(text = x, srcfile = src): <text>:4:12: unexpected '$'\n3: \n4: path_local=$\n              ^\nTraceback:\n"
     ]
    }
   ],
   "source": [
    "# LDA\n",
    "\n",
    "\n",
    "path_local=$(cat /home/stlk/Desktop/DigEc_scripts/LDA.r) &&\n",
    "path_remote=\"~/DigEc/.\" &&\n",
    "path_output=$(cat /home/stlk/Desktop/DigEc_scripts/.) &&\n",
    "\n",
    "\n",
    "cat /home/stlk/Desktop/DigEc_scripts/LDA.r | piterdata 'cat -> ~/DigEc/LDA.r' &&\n",
    "cat /home/stlk/Desktop/DigEc_data_samples/stories_dtm.RData | piterdata 'cat -> ~/DigEc/stories_dtm.RData'\n",
    "\n",
    "\n",
    "\n",
    "piterdata &&\n",
    "Rscript ~/DigEc/LDA.r &&\n",
    "piterdata 'cat ~/list_moz' > $path_output\n",
    "\n",
    "\n",
    "piterdata 'cat ~/DigEc/ap_lda.RData' > /home/stlk/Desktop/DigEc_scripts/ap_lda.RData"
   ]
  },
  {
   "cell_type": "code",
   "execution_count": null,
   "metadata": {
    "collapsed": true
   },
   "outputs": [],
   "source": [
    "# Overfounded LDA\n",
    "\n",
    "\n",
    "mongoexport --host localhost --db kck --collection KCK --csv --out /home/stlk/Desktop/DigEc_scripts/over_lda/y_mongo.csv --fields id,blurb,goal,pledged,state,state_changed_at\n",
    "\n",
    "\n",
    "cat /home/stlk/Desktop/DigEc_scripts/over_lda/LDA.r | piterdata 'cat -> ~/DigEc/over/LDA.r' &&\n",
    "cat /home/stlk/Desktop/DigEc_scripts/over_lda/stories_dtm.RData | piterdata 'cat -> ~/DigEc/over/stories_dtm.RData'\n",
    "\n",
    "cat /home/stlk/Desktop/DigEc_scripts/over_lda/stories_dtm_120.RData | piterdata 'cat -> ~/DigEc/over/stories_dtm_120.RData'\n",
    "\n",
    "piterdata\n",
    "Rscript ~/DigEc/over/LDA.r\n",
    "\n",
    "piterdata 'cat ~/DigEc/over/ap_lda_20.RData' > /home/stlk/Desktop/DigEc_scripts/over_lda/ap_lda_20.RData\n",
    "piterdata 'cat ~/DigEc/over/ap_lda_15.RData' > /home/stlk/Desktop/DigEc_scripts/over_lda/ap_lda_15.RData\n",
    "piterdata 'cat ~/DigEc/over/ap_lda_10.RData' > /home/stlk/Desktop/DigEc_scripts/over_lda/ap_lda_10.RData\n",
    "piterdata 'cat ~/DigEc/over/ap_lda_7.RData' > /home/stlk/Desktop/DigEc_scripts/over_lda/ap_lda_7.RData\n"
   ]
  },
  {
   "cell_type": "code",
   "execution_count": 2,
   "metadata": {
    "collapsed": true
   },
   "outputs": [],
   "source": [
    "# Word Counts Alt\n",
    "\n",
    "cat /home/stlk/Desktop/DigEc_scripts/word_counts_alt.r | piterdata 'cat -> ~/DigEc/word_counts_alt.r' && \n",
    "cat /home/stlk/Desktop/DigEc_scripts/lda/word_counts.RData | piterdata 'cat -> ~/DigEc/word_counts.RData'\n",
    "\n",
    "\n",
    "\n",
    "piterdata\n",
    "Rscript ~/DigEc/word_counts_alt.r\n",
    "# piterdata 'cat ~/list_moz' > $path_output\n",
    "\n",
    "\n",
    "piterdata 'cat ~/DigEc/word_counts.RData' > /home/stlk/Desktop/DigEc_scripts/lda/word_counts_alt.csv\n",
    "\n"
   ]
  },
  {
   "cell_type": "code",
   "execution_count": null,
   "metadata": {
    "collapsed": true
   },
   "outputs": [],
   "source": [
    "# Ranking/experience\n",
    "\n",
    "\n",
    "cat /home/stlk/Desktop/DigEc_scripts/ranks.r | piterdata 'cat -> ~/DigEc/ranks.r' &&\n",
    "cat /home/stlk/Desktop/DigEc_scripts/df_with_creators.RData | piterdata 'cat -> ~/DigEc/df_with_creators.RData'\n",
    "\n"
   ]
  }
 ],
 "metadata": {
  "hide_input": false,
  "kernelspec": {
   "display_name": "R",
   "language": "R",
   "name": "ir"
  },
  "language_info": {
   "codemirror_mode": "r",
   "file_extension": ".r",
   "mimetype": "text/x-r-source",
   "name": "R",
   "pygments_lexer": "r",
   "version": "3.4.3"
  },
  "varInspector": {
   "cols": {
    "lenName": 16,
    "lenType": 16,
    "lenVar": 40
   },
   "kernels_config": {
    "python": {
     "delete_cmd_postfix": "",
     "delete_cmd_prefix": "del ",
     "library": "var_list.py",
     "varRefreshCmd": "print(var_dic_list())"
    },
    "r": {
     "delete_cmd_postfix": ") ",
     "delete_cmd_prefix": "rm(",
     "library": "var_list.r",
     "varRefreshCmd": "cat(var_dic_list()) "
    }
   },
   "types_to_exclude": [
    "module",
    "function",
    "builtin_function_or_method",
    "instance",
    "_Feature"
   ],
   "window_display": false
  }
 },
 "nbformat": 4,
 "nbformat_minor": 2
}
