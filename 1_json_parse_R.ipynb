{
 "cells": [
  {
   "cell_type": "code",
   "execution_count": 5,
   "metadata": {
    "collapsed": true
   },
   "outputs": [],
   "source": [
    "# https://www.r-bloggers.com/web-data-acquisition-parsing-json-objects-with-tidyjson-part-3/\n",
    "# https://github.com/sailthru/tidyjson\n",
    "\n",
    "\n",
    "library(tidyjson)\n",
    "library(tidyverse)\n",
    "library(magrittr)\n",
    "\n",
    "df = read_csv(\"/home/stlk/Desktop/DigEc_data/Kickstarter_2016-01-28T09_15_08_781Z.zip_folder/Kickstarter.csv\")\n"
   ]
  },
  {
   "cell_type": "code",
   "execution_count": 7,
   "metadata": {},
   "outputs": [
    {
     "ename": "ERROR",
     "evalue": "Error: 'json_structure' is not an exported object from 'namespace:tidyjson'\n",
     "output_type": "error",
     "traceback": [
      "Error: 'json_structure' is not an exported object from 'namespace:tidyjson'\nTraceback:\n",
      "1. j %>% tidyjson::json_structure()",
      "2. withVisible(eval(quote(`_fseq`(`_lhs`)), env, env))",
      "3. eval(quote(`_fseq`(`_lhs`)), env, env)",
      "4. eval(quote(`_fseq`(`_lhs`)), env, env)",
      "5. `_fseq`(`_lhs`)",
      "6. freduce(value, `_function_list`)",
      "7. withVisible(function_list[[k]](value))",
      "8. function_list[[k]](value)",
      "9. tidyjson::json_structure",
      "10. getExportedValue(pkg, name)",
      "11. stop(gettextf(\"'%s' is not an exported object from 'namespace:%s'\", \n  .     name, getNamespaceName(ns)), call. = FALSE, domain = NA)"
     ]
    }
   ],
   "source": [
    "j = tidyjson::as.tbl_json(as.character(df$creator))\n",
    "\n",
    "j %>% tidyjson::json_structure()\n",
    "\n",
    "\n",
    "# j %>% enter_object(\"urls\") %>% gather_array %>% tidyjson::spread_all %>% head()"
   ]
  },
  {
   "cell_type": "code",
   "execution_count": 12,
   "metadata": {},
   "outputs": [
    {
     "data": {
      "text/html": [
       "<table>\n",
       "<thead><tr><th scope=col>document.id</th><th scope=col>array.index</th><th scope=col>user.name</th><th scope=col>user.age</th></tr></thead>\n",
       "<tbody>\n",
       "\t<tr><td>1    </td><td>1    </td><td>bob  </td><td>32   </td></tr>\n",
       "\t<tr><td>1    </td><td>2    </td><td>susan</td><td>54   </td></tr>\n",
       "</tbody>\n",
       "</table>\n"
      ],
      "text/latex": [
       "\\begin{tabular}{r|llll}\n",
       " document.id & array.index & user.name & user.age\\\\\n",
       "\\hline\n",
       "\t 1     & 1     & bob   & 32   \\\\\n",
       "\t 1     & 2     & susan & 54   \\\\\n",
       "\\end{tabular}\n"
      ],
      "text/markdown": [
       "\n",
       "document.id | array.index | user.name | user.age | \n",
       "|---|---|\n",
       "| 1     | 1     | bob   | 32    | \n",
       "| 1     | 2     | susan | 54    | \n",
       "\n",
       "\n"
      ],
      "text/plain": [
       "  document.id array.index user.name user.age\n",
       "1 1           1           bob       32      \n",
       "2 1           2           susan     54      "
      ]
     },
     "metadata": {},
     "output_type": "display_data"
    }
   ],
   "source": [
    "\n",
    "json <- '[{\"name\": \"bob\", \"age\": 32}, {\"name\": \"susan\", \"age\": 54}]'\n",
    "\n",
    "json %>%            # Use the %>% pipe operator to pass json through a pipeline \n",
    "  as.tbl_json %>%   # Parse the JSON and setup a 'tbl_json' object\n",
    "  gather_array %>%  # Gather (stack) the array by index\n",
    "  spread_values(    # Spread (widen) values to widen the data.frame\n",
    "    user.name = jstring(\"name\"),  # Extract the \"name\" object as a character column \"user.name\"\n",
    "    user.age = jnumber(\"age\")     # Extract the \"age\" object as a numeric column \"user.age\"\n",
    "  )"
   ]
  }
 ],
 "metadata": {
  "hide_input": false,
  "kernelspec": {
   "display_name": "R",
   "language": "R",
   "name": "ir"
  },
  "language_info": {
   "codemirror_mode": "r",
   "file_extension": ".r",
   "mimetype": "text/x-r-source",
   "name": "R",
   "pygments_lexer": "r",
   "version": "3.4.3"
  },
  "varInspector": {
   "cols": {
    "lenName": 16,
    "lenType": 16,
    "lenVar": 40
   },
   "kernels_config": {
    "python": {
     "delete_cmd_postfix": "",
     "delete_cmd_prefix": "del ",
     "library": "var_list.py",
     "varRefreshCmd": "print(var_dic_list())"
    },
    "r": {
     "delete_cmd_postfix": ") ",
     "delete_cmd_prefix": "rm(",
     "library": "var_list.r",
     "varRefreshCmd": "cat(var_dic_list()) "
    }
   },
   "types_to_exclude": [
    "module",
    "function",
    "builtin_function_or_method",
    "instance",
    "_Feature"
   ],
   "window_display": false
  }
 },
 "nbformat": 4,
 "nbformat_minor": 2
}
