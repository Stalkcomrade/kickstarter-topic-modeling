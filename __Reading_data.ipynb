{
 "cells": [
  {
   "cell_type": "code",
   "execution_count": 272,
   "metadata": {
    "collapsed": true
   },
   "outputs": [],
   "source": [
    "%%capture \n",
    "%run ~/Variable_inspector.ipynb\n"
   ]
  },
  {
   "cell_type": "code",
   "execution_count": 273,
   "metadata": {
    "collapsed": true
   },
   "outputs": [],
   "source": [
    "# inspector.close()\n",
    "#inspector = VariableInspectorWindow(smi)\n",
    "# inspector\n",
    "\n",
    "import pandas as pd\n",
    "import math\n",
    "import numpy as np"
   ]
  },
  {
   "cell_type": "code",
   "execution_count": 274,
   "metadata": {
    "collapsed": true
   },
   "outputs": [],
   "source": [
    "\n",
    "# Reading Data\n",
    "\n",
    "smi = pd.read_csv(\"~/universities/rating_univer/csv/final_smi.csv\")\n",
    "comp = pd.read_csv(\"~/universities/rating_univer/csv/final_companies.csv\")\n",
    "wos = pd.read_csv(\"~/universities/rating_univer/csv/wos.csv\")\n",
    "moz = pd.read_csv(\"~/universities/rating_univer/factor_analysis/agr_moz.csv\")"
   ]
  },
  {
   "cell_type": "code",
   "execution_count": 278,
   "metadata": {
    "collapsed": true
   },
   "outputs": [],
   "source": [
    "\n",
    "# Smi: Weighting and Matrix multiplication\n",
    "\n",
    "\n",
    "## R1 = t(wght/log(wght))%*%as.matrix(smi)\n",
    "\n",
    "wght = smi.sum(axis = 1) + 1\n",
    "wght = wght.apply(lambda x: x/math.log(x))\n",
    "\n",
    "s = smi.as_matrix()\n",
    "s = np.delete(s,obj = 0, axis=1)\n",
    "\n",
    "w = wght.as_matrix()\n",
    "s = s.astype(float)\n",
    "\n",
    "R1 = np.matmul(w, s)\n",
    "\n",
    "r1 = pd.DataFrame(data = R1)\n",
    "r1 = r1.set_index(smi.columns[1:])\n",
    "r1 = r1.rename(columns = {0 : \"value\"})\n",
    "\n",
    "## R2 = t(wght*log(wght)/wght)%*%as.matrix(smi)\n",
    "\n",
    "wght = smi.sum(axis = 1) + 1\n",
    "wght = wght.apply(lambda x: x*math.log(x)/x)\n",
    "w = wght.as_matrix()\n",
    "\n",
    "R2 = np.matmul(w,s)\n",
    "\n",
    "r2 = pd.DataFrame(data = R2)\n",
    "r2 = r2.set_index(smi.columns[1:])\n",
    "r2 = r2.rename(columns = {0 : \"value\"})\n",
    "\n",
    "## R3 = t(1/wght)%*%as.matrix(smi)\n",
    "\n",
    "wght = smi.sum(axis = 1) + 1\n",
    "wght = wght.apply(lambda x: 1/x)\n",
    "w = wght.as_matrix()\n",
    "\n",
    "R3 = np.matmul(w,s)\n",
    "\n",
    "r3 = pd.DataFrame(data = R3)\n",
    "r3 = r3.set_index(smi.columns[1:])\n",
    "r3 = r3.rename(columns = {0 : \"value\"})\n",
    "\n",
    "# Modifying values\n",
    "\n",
    "## modify HSE values\n",
    "r1.at[\"вшэ\", \"value\"] = r1.at[\"вшэ\", \"value\"]*.133\n",
    "r2.at[\"вшэ\", \"value\"] = r2.at[\"вшэ\", \"value\"]*.133\n",
    "r3.at[\"вшэ\", \"value\"] = r3.at[\"вшэ\", \"value\"]*.133\n",
    "\n",
    "## modify RANEPA values\n",
    "r1.at[\"ранхигс\", \"value\"] = r1.at[\"ранхигс\", \"value\"]*.294\n",
    "r2.at[\"ранхигс\", \"value\"] = r2.at[\"ранхигс\", \"value\"]*.294\n",
    "r3.at[\"ранхигс\", \"value\"] = r3.at[\"ранхигс\", \"value\"]*.294\n",
    "\n",
    "\n",
    "## making values smooth\n",
    "\n",
    "agr_s1 = r1[\"value\"].apply(lambda x: math.log(x + .1)) / math.log(r1[\"value\"].max()) * 100\n",
    "agr_s2 = r2[\"value\"].apply(lambda x: math.log(x + .1)) / math.log(r2[\"value\"].max()) * 100\n",
    "agr_s3 = r3[\"value\"].apply(lambda x: math.log(x + .1)) / math.log(r3[\"value\"].max()) * 10\n",
    "\n"
   ]
  },
  {
   "cell_type": "code",
   "execution_count": 305,
   "metadata": {
    "collapsed": true
   },
   "outputs": [],
   "source": [
    "# Companies: Weighting and Matrix multiplication\n",
    "\n",
    "## R1 = t(wght/log(wght))%*%as.matrix(smi)\n",
    "\n",
    "wght = comp.sum(axis = 1) + 1\n",
    "wght = wght.apply(lambda x: x/math.log(x + .001))\n",
    "\n",
    "s = comp.as_matrix()\n",
    "s = np.delete(s,obj = 0, axis=1)\n",
    "\n",
    "w = wght.as_matrix()\n",
    "s = s.astype(float)\n",
    "\n",
    "R1 = np.matmul(w, s)\n",
    "\n",
    "r1 = pd.DataFrame(data = R1)\n",
    "r1 = r1.set_index(comp.columns[1:])\n",
    "r1 = r1.rename(columns = {0 : \"value\"})\n",
    "\n",
    "## R2 = t(wght*log(wght)/wght)%*%as.matrix(smi)\n",
    "\n",
    "wght = comp.sum(axis = 1) + 1\n",
    "wght = wght.apply(lambda x: x*math.log(x)/x)\n",
    "w = wght.as_matrix()\n",
    "\n",
    "R2 = np.matmul(w,s)\n",
    "\n",
    "r2 = pd.DataFrame(data = R2)\n",
    "r2 = r2.set_index(comp.columns[1:])\n",
    "r2 = r2.rename(columns = {0 : \"value\"})\n",
    "\n",
    "# R3 = t(1/wght)%*%as.matrix(smi)\n",
    "\n",
    "wght = comp.sum(axis = 1) + 1\n",
    "wght = wght.apply(lambda x: 1/x)\n",
    "w = wght.as_matrix()\n",
    "\n",
    "R3 = np.matmul(w,s)\n",
    "\n",
    "r3 = pd.DataFrame(data = R3)\n",
    "r3 = r3.set_index(comp.columns[1:])\n",
    "r3 = r3.rename(columns = {0 : \"value\"})\n",
    "\n",
    "# Modifying values\n",
    "\n",
    "## modify HSE values\n",
    "r1.at[\"вшэ\", \"value\"] = r1.at[\"вшэ\", \"value\"]*.133\n",
    "r2.at[\"вшэ\", \"value\"] = r2.at[\"вшэ\", \"value\"]*.133\n",
    "r3.at[\"вшэ\", \"value\"] = r3.at[\"вшэ\", \"value\"]*.133\n",
    "\n",
    "## modify RANEPA values\n",
    "r1.at[\"ранхигс\", \"value\"] = r1.at[\"ранхигс\", \"value\"]*.294\n",
    "r2.at[\"ранхигс\", \"value\"] = r2.at[\"ранхигс\", \"value\"]*.294\n",
    "r3.at[\"ранхигс\", \"value\"] = r3.at[\"ранхигс\", \"value\"]*.294\n",
    "\n",
    "\n",
    "## making values smooth\n",
    "\n",
    "agr_r1 = r1[\"value\"].apply(lambda x: math.log(x + .001)) / math.log(r1[\"value\"].max()) * 100\n",
    "agr_r2 = r2[\"value\"].apply(lambda x: math.log(x + .001)) / math.log(r2[\"value\"].max()) * 100\n",
    "agr_r3 = r3[\"value\"].apply(lambda x: math.log(x + .001)) / math.log(r3[\"value\"].max()) * 100\n"
   ]
  },
  {
   "cell_type": "code",
   "execution_count": 307,
   "metadata": {
    "collapsed": true
   },
   "outputs": [],
   "source": [
    "# WoS: Weighting and Matrix multiplication\n",
    "\n",
    "## R1 = t(wght/log(wght))%*%as.matrix(smi)\n",
    "\n",
    "wght = wos.sum(axis = 1) + 1\n",
    "wght = wght.apply(lambda x: x/math.log(x + .001))\n",
    "\n",
    "s = wos.as_matrix()\n",
    "s = np.delete(s,obj = 0, axis=1)\n",
    "\n",
    "w = wght.as_matrix()\n",
    "s = s.astype(float)\n",
    "\n",
    "R1 = np.matmul(w, s)\n",
    "\n",
    "r1 = pd.DataFrame(data = R1)\n",
    "r1 = r1.set_index(wos.columns[1:])\n",
    "r1 = r1.rename(columns = {0 : \"value\"})\n",
    "\n",
    "## R2 = t(wght*log(wght)/wght)%*%as.matrix(smi)\n",
    "\n",
    "wght = wos.sum(axis = 1) + 1\n",
    "wght = wght.apply(lambda x: x*math.log(x)/x)\n",
    "w = wght.as_matrix()\n",
    "\n",
    "R2 = np.matmul(w,s)\n",
    "\n",
    "r2 = pd.DataFrame(data = R2)\n",
    "r2 = r2.set_index(wos.columns[1:])\n",
    "r2 = r2.rename(columns = {0 : \"value\"})\n",
    "\n",
    "# R3 = t(1/wght)%*%as.matrix(smi)\n",
    "\n",
    "wght = wos.sum(axis = 1) + 1\n",
    "wght = wght.apply(lambda x: 1/x)\n",
    "w = wght.as_matrix()\n",
    "\n",
    "R3 = np.matmul(w,s)\n",
    "\n",
    "r3 = pd.DataFrame(data = R3)\n",
    "r3 = r3.set_index(wos.columns[1:])\n",
    "r3 = r3.rename(columns = {0 : \"value\"})\n",
    "\n",
    "# Modifying values\n",
    "\n",
    "## modify HSE values\n",
    "r1.at[\"вшэ\", \"value\"] = r1.at[\"вшэ\", \"value\"]*.133\n",
    "r2.at[\"вшэ\", \"value\"] = r2.at[\"вшэ\", \"value\"]*.133\n",
    "r3.at[\"вшэ\", \"value\"] = r3.at[\"вшэ\", \"value\"]*.133\n",
    "\n",
    "## modify RANEPA values\n",
    "r1.at[\"ранхигс\", \"value\"] = r1.at[\"ранхигс\", \"value\"]*.294\n",
    "r2.at[\"ранхигс\", \"value\"] = r2.at[\"ранхигс\", \"value\"]*.294\n",
    "r3.at[\"ранхигс\", \"value\"] = r3.at[\"ранхигс\", \"value\"]*.294\n",
    "\n",
    "\n",
    "## making values smooth\n",
    "\n",
    "agr_w1 = r1[\"value\"].apply(lambda x: math.log(x + .001)) / math.log(r1[\"value\"].max()) * 100\n",
    "agr_w2 = r2[\"value\"].apply(lambda x: math.log(x + .001)) / math.log(r2[\"value\"].max()) * 100\n",
    "agr_w3 = r3[\"value\"].apply(lambda x: math.log(x + .001)) / math.log(r3[\"value\"].max()) * 100"
   ]
  },
  {
   "cell_type": "code",
   "execution_count": 2,
   "metadata": {},
   "outputs": [
    {
     "data": {
      "text/plain": [
       "32768"
      ]
     },
     "execution_count": 2,
     "metadata": {},
     "output_type": "execute_result"
    }
   ],
   "source": [
    "\n",
    "import os\n",
    "\n",
    "os.system('git commit && git push')"
   ]
  }
 ],
 "metadata": {
  "kernelspec": {
   "display_name": "Python 3",
   "language": "python",
   "name": "python3"
  },
  "language_info": {
   "codemirror_mode": {
    "name": "ipython",
    "version": 3
   },
   "file_extension": ".py",
   "mimetype": "text/x-python",
   "name": "python",
   "nbconvert_exporter": "python",
   "pygments_lexer": "ipython3",
   "version": "3.4.3"
  },
  "varInspector": {
   "cols": {
    "lenName": 16,
    "lenType": 16,
    "lenVar": 40
   },
   "kernels_config": {
    "python": {
     "delete_cmd_postfix": "",
     "delete_cmd_prefix": "del ",
     "library": "var_list.py",
     "varRefreshCmd": "print(var_dic_list())"
    },
    "r": {
     "delete_cmd_postfix": ") ",
     "delete_cmd_prefix": "rm(",
     "library": "var_list.r",
     "varRefreshCmd": "cat(var_dic_list()) "
    }
   },
   "position": {
    "height": "289px",
    "left": "665px",
    "right": "20px",
    "top": "132px",
    "width": "339px"
   },
   "types_to_exclude": [
    "module",
    "function",
    "builtin_function_or_method",
    "instance",
    "_Feature"
   ],
   "window_display": false
  }
 },
 "nbformat": 4,
 "nbformat_minor": 2
}
